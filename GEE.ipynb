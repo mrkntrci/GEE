{
 "cells": [
  {
   "cell_type": "code",
   "execution_count": 1,
   "metadata": {
    "pycharm": {
     "name": "#%%\n"
    }
   },
   "outputs": [],
   "source": [
    "import ee\n",
    "import geemap\n",
    "import os\n",
    "import geopandas as gpd\n",
    "from shapely.geometry import Point\n",
    "import pandas as pd"
   ]
  },
  {
   "cell_type": "code",
   "execution_count": 3,
   "metadata": {
    "pycharm": {
     "name": "#%%\n"
    }
   },
   "outputs": [
    {
     "data": {
      "application/vnd.jupyter.widget-view+json": {
       "model_id": "c15ef457b62a4287afae5b1a4a7c50cc",
       "version_major": 2,
       "version_minor": 0
      },
      "text/plain": [
       "Map(center=[20, 0], controls=(WidgetControl(options=['position', 'transparent_bg'], widget=HBox(children=(Togg…"
      ]
     },
     "metadata": {},
     "output_type": "display_data"
    }
   ],
   "source": [
    "Map = geemap.Map()\n",
    "Map"
   ]
  },
  {
   "cell_type": "code",
   "execution_count": 80,
   "metadata": {
    "pycharm": {
     "name": "#%%\n"
    }
   },
   "outputs": [],
   "source": [
    "#Cloud Mask\n",
    "def maskS2sr(image):\n",
    "  # Bits 10 and 11 are clouds and cirrus, respectively.\n",
    "  cloudBitMask = ee.Number(2).pow(10).int()\n",
    "  cirrusBitMask = ee.Number(2).pow(11).int()\n",
    "  # Get the pixel QA band.\n",
    "  qa = image.select('QA60')\n",
    "  # All flags should be set to zero, indicating clear conditions.\n",
    "  mask = qa.bitwiseAnd(cloudBitMask).eq(0) \\\n",
    "      .And(qa.bitwiseAnd(cirrusBitMask).eq(0))\n",
    "  # Return the masked image, scaled to TOA reflectance, without the QA bands.\n",
    "  return image.updateMask(mask) \\\n",
    "      .copyProperties(image, [\"system:time_start\"])\n"
   ]
  },
  {
   "cell_type": "code",
   "execution_count": null,
   "metadata": {
    "pycharm": {
     "name": "#%%\n"
    }
   },
   "outputs": [],
   "source": [
    "# Read the forest fire inventory data to collect X and Y coordinated to create an area filter for each forest fire event\n",
    "\n",
    "\n",
    "# Read data from the CSV file\n",
    "data = pd.read_csv('Fires.csv')\n",
    "data = data.dropna()\n",
    "# Create a list to hold Point objects and buffer results\n",
    "points = []\n",
    "buffers = []\n",
    "\n",
    "# Create Point objects and buffer them\n",
    "for _, row in data.iterrows():\n",
    "    lon, lat = row['X'], row['Y']\n",
    "    point = Point(lon, lat)\n",
    "    buffer = point.buffer(0.035, cap_style=3)\n",
    "    points.append(point)\n",
    "    buffers.append(buffer)"
   ]
  },
  {
   "cell_type": "markdown",
   "metadata": {
    "pycharm": {
     "name": "#%%\n"
    }
   },
   "source": [
    "Reading the forest fire inventory to read the dates of the fire and search for images before and after the fire with the period of 20 days. Then cach image is masked and Difference Normalized burned ratio, NDVI and MNDWI will be calculated. After that each image is saved in the drive. "
   ]
  },
  {
   "cell_type": "code",
   "execution_count": null,
   "metadata": {
    "pycharm": {
     "name": "#%%\n"
    }
   },
   "outputs": [],
   "source": [
    "# Loop through each set of inputs\n",
    "for idx, geometry in enumerate(buffers):\n",
    "    prefire_end = pd.to_datetime(data.loc[idx, 'prefire_end'])\n",
    "    postfire_start = pd.to_datetime(data.loc[idx, 'postfire_start'])\n",
    "    \n",
    "    # Calculate prefire_start and postfire_end\n",
    "    prefire_start = prefire_end - pd.Timedelta(days=20)\n",
    "    postfire_end = postfire_start + pd.Timedelta(days=20)\n",
    "    \n",
    "    # Convert prefire_start and postfire_end to strings in the required format\n",
    "    prefire_start_str = prefire_start.strftime('%Y-%m-%d')\n",
    "    postfire_end_str = postfire_end.strftime('%Y-%m-%d')\n",
    "    \n",
    "    # Geojson of the burned area\n",
    "    geometry = ee.Geometry.Polygon(geometry.__geo_interface__['coordinates'])\n",
    "\n",
    "    # pre-fire and post-fire dates\n",
    "    prefire_start = prefire_start_str\n",
    "    prefire_end = prefire_end.strftime('%Y-%m-%d')\n",
    "    postfire_start = postfire_start.strftime('%Y-%m-%d')\n",
    "    postfire_end = postfire_end_str\n",
    "\n",
    "    # Selecting a Satellite Imagery\n",
    "    ImCol = 'COPERNICUS/S2'\n",
    "    pl = 'Sentinel-2'\n",
    "    \n",
    "    # Location\n",
    "    area = ee.FeatureCollection(geometry)\n",
    "\n",
    "    # Select imagery by time and location\n",
    "    imagery = ee.ImageCollection(ImCol)\n",
    "\n",
    "    # Imagery will be collected depending on the location, time frame, and cloud cover\n",
    "    prefireImCol = ee.ImageCollection(imagery.filterDate(prefire_start, prefire_end).filterBounds(area))\n",
    "    postfireImCol = ee.ImageCollection(imagery.filterDate(postfire_start, postfire_end).filterBounds(area))\n",
    "\n",
    "    # Cloud Mask\n",
    "    def maskS2sr(image):\n",
    "        # Bits 10 and 11 are clouds and cirrus, respectively.\n",
    "        cloudBitMask = ee.Number(2).pow(10).int()\n",
    "        cirrusBitMask = ee.Number(2).pow(11).int()\n",
    "        # Get the pixel QA band.\n",
    "        qa = image.select('QA60')\n",
    "        # All flags should be set to zero, indicating clear conditions.\n",
    "        mask = qa.bitwiseAnd(cloudBitMask).eq(0) \\\n",
    "            .And(qa.bitwiseAnd(cirrusBitMask).eq(0))\n",
    "        # Return the masked image, scaled to TOA reflectance, without the QA bands.\n",
    "        return image.updateMask(mask) \\\n",
    "            .copyProperties(image, [\"system:time_start\"])\n",
    "\n",
    "    # Apply Cloud Mask\n",
    "    prefire_CM_ImCol = prefireImCol.map(maskS2sr)\n",
    "    postfire_CM_ImCol = postfireImCol.map(maskS2sr)\n",
    "\n",
    "    pre_mos = prefireImCol.mosaic().clip(area)\n",
    "    post_mos = postfireImCol.mosaic().clip(area)\n",
    "\n",
    "    pre_cm_mos = prefire_CM_ImCol.mosaic().clip(area)\n",
    "    post_cm_mos = postfire_CM_ImCol.mosaic().clip(area)\n",
    "\n",
    "    preNBR = pre_cm_mos.normalizedDifference(['B8', 'B12'])\n",
    "    postNBR = post_cm_mos.normalizedDifference(['B8', 'B12'])\n",
    "    dNBR_unscaled = preNBR.subtract(postNBR)\n",
    "    dNBR = dNBR_unscaled.multiply(1000)\n",
    "    preNDVI = pre_cm_mos.normalizedDifference(['B8', 'B4'])\n",
    "    postNDVI = post_cm_mos.normalizedDifference(['B8', 'B4'])\n",
    "    \n",
    "    preMNDWI = pre_cm_mos.normalizedDifference(['B11', 'B3'])\n",
    "    postMNDWI = post_cm_mos.normalizedDifference(['B11', 'B3'])\n",
    "\n",
    "    Pre_image = pre_cm_mos.select(['B4', 'B3', 'B2'])\n",
    "    Post_image = post_cm_mos.select(['B4', 'B3', 'B2']) \n",
    "\n",
    "    # Export the dNBR image\n",
    "    \n",
    "    geemap.ee_export_image_to_drive(\n",
    "        dNBR, description=f'{idx}_dNBR_.tif',folder='larges', scale=10, region=geometry)\n",
    "    geemap.ee_export_image_to_drive(\n",
    "        preNDVI, description=f'{idx}_preNDVI.tif',folder='larges', scale=10, region=geometry)\n",
    "    \n",
    "    geemap.ee_export_image_to_drive(\n",
    "        postNDVI, description=f'{idx}_postNDVI.tif',folder='larges', scale=10, region=geometry)\n",
    "    \n",
    "    geemap.ee_export_image_to_drive(\n",
    "        preMNDWI, description=f'{idx}_preMNDWI.tif',folder='larges', scale=10, region=geometry)\n",
    "    \n",
    "    geemap.ee_export_image_to_drive(\n",
    "        postMNDWI, description=f'{idx}_postMNDWI.tif',folder='larges', scale=10, region=geometry)\n",
    "    geemap.ee_export_image_to_drive(\n",
    "        Pre_image, description=f'{idx}_Pre_image.tif',folder='larges', scale=10, region=geometry)\n",
    "    \n",
    "    geemap.ee_export_image_to_drive(\n",
    "        Post_image, description=f'{idx}_Post_image.tif',folder='larges', scale=10, region=geometry)\n",
    "\n",
    "    # Clear the map for the next run\n",
    "    Map.clear_layers()"
   ]
  }
 ],
 "metadata": {
  "kernelspec": {
   "display_name": "Python 3 (ipykernel)",
   "language": "python",
   "name": "python3"
  },
  "language_info": {
   "codemirror_mode": {
    "name": "ipython",
    "version": 3
   },
   "file_extension": ".py",
   "mimetype": "text/x-python",
   "name": "python",
   "nbconvert_exporter": "python",
   "pygments_lexer": "ipython3",
   "version": "3.11.3"
  }
 },
 "nbformat": 4,
 "nbformat_minor": 1
}
